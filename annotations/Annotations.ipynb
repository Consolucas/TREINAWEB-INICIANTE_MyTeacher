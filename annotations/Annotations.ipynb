{
 "cells": [
  {
   "cell_type": "markdown",
   "metadata": {},
   "source": [
    "# notion\n",
    "https://treinaweb.notion.site/HTML-CSS-e-JS-2ce325b381f04808a44c80d3ca3ab8bf"
   ]
  },
  {
   "cell_type": "markdown",
   "metadata": {},
   "source": [
    "## Links trilha iniciante:\n",
    "\n",
    "Aula 1 - https://www.youtube.com/watch?v=di5q9NW1D0U&t=1352s <br>\n",
    "Aula 2 - https://www.youtube.com/watch?v=s_9WJU4yCsk&t=654s <br>\n",
    "Aula 3 - https://www.youtube.com/watch?v=9FO93OuYDxI&t=4099s <br>"
   ]
  },
  {
   "cell_type": "markdown",
   "metadata": {},
   "source": [
    "## Links trila principal:\n",
    "\n",
    "Aula 1 - https://www.youtube.com/watch?v=jVGdrGdz70E <br>\n",
    "Aula 2 - https://www.youtube.com/watch?v=oVEHixl9Xdk <br>\n",
    "Aula 3 - https://www.youtube.com/watch?v=wHJ83FzCYu8&t=1s"
   ]
  }
 ],
 "metadata": {
  "kernelspec": {
   "display_name": "Python 3.10.6 64-bit",
   "language": "python",
   "name": "python3"
  },
  "language_info": {
   "name": "python",
   "version": "3.10.6"
  },
  "orig_nbformat": 4,
  "vscode": {
   "interpreter": {
    "hash": "916dbcbb3f70747c44a77c7bcd40155683ae19c65e1c03b4aa3499c5328201f1"
   }
  }
 },
 "nbformat": 4,
 "nbformat_minor": 2
}
